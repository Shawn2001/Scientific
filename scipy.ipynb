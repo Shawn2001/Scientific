{
 "metadata": {
  "language_info": {
   "codemirror_mode": {
    "name": "ipython",
    "version": 3
   },
   "file_extension": ".py",
   "mimetype": "text/x-python",
   "name": "python",
   "nbconvert_exporter": "python",
   "pygments_lexer": "ipython3",
   "version": "3.8.2"
  },
  "orig_nbformat": 2,
  "kernelspec": {
   "name": "venv",
   "display_name": "venv",
   "language": "python"
  }
 },
 "nbformat": 4,
 "nbformat_minor": 2,
 "cells": [
  {
   "source": [
    "# Physical Constants"
   ],
   "cell_type": "markdown",
   "metadata": {}
  },
  {
   "cell_type": "code",
   "execution_count": 9,
   "metadata": {
    "tags": []
   },
   "outputs": [
    {
     "output_type": "stream",
     "name": "stdout",
     "text": [
      "(6.02214076e+23, 'mol^-1', 0.0)\n9.1093837015e-31\nkg\n3.0737534961217373e-10\n"
     ]
    }
   ],
   "source": [
    "import scipy.constants as pc\n",
    "\n",
    "print(pc.physical_constants['Avogadro constant'])\n",
    "## or\n",
    "print(pc.value('electron mass'))\n",
    "print(pc.unit('electron mass'))\n",
    "print(pc.precision('electron mass'))"
   ]
  },
  {
   "cell_type": "code",
   "execution_count": null,
   "metadata": {},
   "outputs": [],
   "source": []
  }
 ]
}