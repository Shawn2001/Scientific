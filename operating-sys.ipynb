{
 "metadata": {
  "language_info": {
   "codemirror_mode": {
    "name": "ipython",
    "version": 3
   },
   "file_extension": ".py",
   "mimetype": "text/x-python",
   "name": "python",
   "nbconvert_exporter": "python",
   "pygments_lexer": "ipython3",
   "version": "3.8.2"
  },
  "orig_nbformat": 2,
  "kernelspec": {
   "name": "python382jvsc74a57bd09542832ce85b55d80a07213fa1233505fe9b3a8b4467dfaca5bb165dfb171db7",
   "display_name": "Python 3.8.2  ('venv': venv)"
  }
 },
 "nbformat": 4,
 "nbformat_minor": 2,
 "cells": [
  {
   "source": [
    "### sys.argv\\[0\\]\n",
    "- return list of strings (1st item is the name of program)\n",
    "<br>\n",
    "\n",
    "\n",
    "### sys.exit()\n",
    "- cause the program to terminate and exit from python"
   ],
   "cell_type": "markdown",
   "metadata": {}
  },
  {
   "source": [
    "## OS module\n",
    "### environment variables\n",
    "- HOME: path to the user's home directory \n",
    "- PWD: the current working directory \n",
    "- USER: the current user's username \n",
    "- PATH: the system path environment variable "
   ],
   "cell_type": "markdown",
   "metadata": {}
  },
  {
   "cell_type": "code",
   "execution_count": 6,
   "metadata": {},
   "outputs": [
    {
     "output_type": "stream",
     "name": "stdout",
     "text": [
      "/Volumes/Macintosh HD - Data/OneDrive - Nanyang Technological University/Miscellaneous/Scientific/venv/bin:/Volumes/Macintosh HD - Data/OneDrive - Nanyang Technological University/Miscellaneous/Scientific/venv/bin:/usr/local/bin:/usr/bin:/bin:/usr/sbin:/sbin:/Library/Apple/usr/bin:/Users/shawnlow/Documents/flutter/bin\n"
     ]
    }
   ],
   "source": [
    "print(os.getenv('HOME'))\n",
    "print(os.getenv('PWD'))\n",
    "print(os.getenv('USER'))\n",
    "print(os.getenv('PATH'))"
   ]
  },
  {
   "source": [
    "## Common pathname manipulation\n",
    "- os.path.basename(path) : return the filename \n",
    "- os.path.dirname(path)\n",
    "- os.path.exists(path)\n",
    "- os.path.splitext(path) : split the path into \"root\" and \"extension\""
   ],
   "cell_type": "markdown",
   "metadata": {}
  },
  {
   "cell_type": "code",
   "execution_count": 7,
   "metadata": {},
   "outputs": [
    {
     "output_type": "error",
     "ename": "SyntaxError",
     "evalue": "invalid syntax (<ipython-input-7-80eead85733c>, line 1)",
     "traceback": [
      "\u001b[0;36m  File \u001b[0;32m\"<ipython-input-7-80eead85733c>\"\u001b[0;36m, line \u001b[0;32m1\u001b[0m\n\u001b[0;31m    import <module>\u001b[0m\n\u001b[0m           ^\u001b[0m\n\u001b[0;31mSyntaxError\u001b[0m\u001b[0;31m:\u001b[0m invalid syntax\n"
     ]
    }
   ],
   "source": []
  },
  {
   "cell_type": "code",
   "execution_count": null,
   "metadata": {},
   "outputs": [],
   "source": []
  }
 ]
}