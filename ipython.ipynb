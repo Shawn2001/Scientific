{
 "metadata": {
  "language_info": {
   "codemirror_mode": {
    "name": "ipython",
    "version": 3
   },
   "file_extension": ".py",
   "mimetype": "text/x-python",
   "name": "python",
   "nbconvert_exporter": "python",
   "pygments_lexer": "ipython3",
   "version": "3.8.2"
  },
  "orig_nbformat": 2,
  "kernelspec": {
   "name": "python382jvsc74a57bd09542832ce85b55d80a07213fa1233505fe9b3a8b4467dfaca5bb165dfb171db7",
   "display_name": "Python 3.8.2  ('venv': venv)"
  }
 },
 "nbformat": 4,
 "nbformat_minor": 2,
 "cells": [
  {
   "source": [
    "## Help Command\n",
    "- print(pd.DataFrame.__doc__) ---> pd.DataFrame?\n",
    "- %quickref : porivdes a brief reference summary of each of the main IPython commands and magis"
   ],
   "cell_type": "markdown",
   "metadata": {}
  },
  {
   "cell_type": "code",
   "execution_count": 9,
   "metadata": {},
   "outputs": [
    {
     "output_type": "stream",
     "name": "stdout",
     "text": [
      "   1: !pip list\n   2:\nimport pandas as pd \npd.DataFrame?\n   3:\nimport pandas as pd \npd.DataFrame.__doc__\n'\\n    Two-dimensional, size-mutable, potentially heterogeneous tabular data.\\n\\n    Data structure also contains labeled axes (rows and columns).\\n    Arithmetic operations align on both row and column labels. Can be\\n    thought of as a dict-like container for Series objects. The primary\\n    pandas data structure.\\n\\n    Parameters\\n    ----------\\n    data : ndarray (structured or homogeneous), Iterable, dict, or DataFrame\\n        Dict can contain Series, arrays, constants, dataclass or list-like objects. If\\n        data is a dict, column order follows insertion-order.\\n\\n        .. versionchanged:: 0.25.0\\n           If data is a list of dicts, column order follows insertion-order.\\n\\n    index : Index or array-like\\n        Index to use for resulting frame. Will default to RangeIndex if\\n        no indexing information part of input data and no index provided.\\n    columns : Index or array-like\\n        Column labels to use for resulting frame. Will default to\\n        RangeIndex (0, 1, 2, ..., n) if no column labels are provided.\\n    dtype : dtype, default None\\n        Data type to force. Only a single dtype is allowed. If None, infer.\\n    copy : bool, default False\\n        Copy data from inputs. Only affects DataFrame / 2d ndarray input.\\n\\n    See Also\\n    --------\\n    DataFrame.from_records : Constructor from tuples, also record arrays.\\n    DataFrame.from_dict : From dicts of Series, arrays, or dicts.\\n    read_csv : Read a comma-separated values (csv) file into DataFrame.\\n    read_table : Read general delimited file into DataFrame.\\n    read_clipboard : Read text from clipboard into DataFrame.\\n\\n    Examples\\n    --------\\n    Constructing DataFrame from a dictionary.\\n\\n    >>> d = {\\'col1\\': [1, 2], \\'col2\\': [3, 4]}\\n    >>> df = pd.DataFrame(data=d)\\n    >>> df\\n       col1  col2\\n    0     1     3\\n    1     2     4\\n\\n    Notice that the inferred dtype is int64.\\n\\n    >>> df.dtypes\\n    col1    int64\\n    col2    int64\\n    dtype: object\\n\\n    To enforce a single dtype:\\n\\n    >>> df = pd.DataFrame(data=d, dtype=np.int8)\\n    >>> df.dtypes\\n    col1    int8\\n    col2    int8\\n    dtype: object\\n\\n    Constructing DataFrame from numpy ndarray:\\n\\n    >>> df2 = pd.DataFrame(np.array([[1, 2, 3], [4, 5, 6], [7, 8, 9]]),\\n    ...                    columns=[\\'a\\', \\'b\\', \\'c\\'])\\n    >>> df2\\n       a  b  c\\n    0  1  2  3\\n    1  4  5  6\\n    2  7  8  9\\n\\n    Constructing DataFrame from dataclass:\\n\\n    >>> from dataclasses import make_dataclass\\n    >>> Point = make_dataclass(\"Point\", [(\"x\", int), (\"y\", int)])\\n    >>> pd.DataFrame([Point(0, 0), Point(0, 3), Point(2, 3)])\\n        x  y\\n    0  0  0\\n    1  0  3\\n    2  2  3\\n    '\n   4:\nimport pandas as pd \nprint(pd.DataFrame.__doc__)\n   5: %quickref\n   6: %history\n   7: %quickref\n   8:\n# get the history\n%history -n\n   9:\n# get the history\n%history -n -o\n"
     ]
    }
   ],
   "source": [
    "# get the history\n",
    "# -o flag get the ouput as well input\n",
    "%history -n "
   ]
  },
  {
   "cell_type": "code",
   "execution_count": 13,
   "metadata": {},
   "outputs": [
    {
     "output_type": "stream",
     "name": "stdout",
     "text": [
      "\u001b[34mvenv/\u001b[m\u001b[m\n"
     ]
    }
   ],
   "source": [
    "# Aliases \n",
    "# if %automagic is on, this alias will be link\n",
    "%alias lstdir ls -d */\n",
    "%lstdir # list the directory with lstdir instead of ls -d */\n"
   ]
  },
  {
   "cell_type": "code",
   "execution_count": 18,
   "metadata": {},
   "outputs": [],
   "source": [
    "#bookmark \n",
    "# %bookmark <name> directory"
   ]
  },
  {
   "source": [
    "import random \n",
    "numbers = list(range(1,101))\n",
    "random.shuffle(numbers)\n",
    "numbers"
   ],
   "cell_type": "code",
   "metadata": {},
   "execution_count": 50,
   "outputs": [
    {
     "output_type": "execute_result",
     "data": {
      "text/plain": [
       "[11,\n",
       " 30,\n",
       " 49,\n",
       " 23,\n",
       " 7,\n",
       " 99,\n",
       " 51,\n",
       " 14,\n",
       " 75,\n",
       " 28,\n",
       " 47,\n",
       " 64,\n",
       " 46,\n",
       " 94,\n",
       " 18,\n",
       " 97,\n",
       " 29,\n",
       " 58,\n",
       " 24,\n",
       " 50,\n",
       " 81,\n",
       " 65,\n",
       " 31,\n",
       " 87,\n",
       " 61,\n",
       " 53,\n",
       " 8,\n",
       " 79,\n",
       " 19,\n",
       " 77,\n",
       " 72,\n",
       " 1,\n",
       " 22,\n",
       " 13,\n",
       " 70,\n",
       " 59,\n",
       " 96,\n",
       " 4,\n",
       " 27,\n",
       " 85,\n",
       " 95,\n",
       " 74,\n",
       " 71,\n",
       " 88,\n",
       " 82,\n",
       " 60,\n",
       " 66,\n",
       " 68,\n",
       " 86,\n",
       " 43,\n",
       " 5,\n",
       " 92,\n",
       " 39,\n",
       " 6,\n",
       " 52,\n",
       " 34,\n",
       " 62,\n",
       " 56,\n",
       " 48,\n",
       " 42,\n",
       " 20,\n",
       " 93,\n",
       " 21,\n",
       " 100,\n",
       " 3,\n",
       " 91,\n",
       " 12,\n",
       " 36,\n",
       " 54,\n",
       " 35,\n",
       " 69,\n",
       " 37,\n",
       " 90,\n",
       " 9,\n",
       " 76,\n",
       " 33,\n",
       " 83,\n",
       " 55,\n",
       " 40,\n",
       " 67,\n",
       " 2,\n",
       " 80,\n",
       " 63,\n",
       " 17,\n",
       " 89,\n",
       " 84,\n",
       " 26,\n",
       " 73,\n",
       " 57,\n",
       " 41,\n",
       " 32,\n",
       " 78,\n",
       " 98,\n",
       " 25,\n",
       " 16,\n",
       " 45,\n",
       " 10,\n",
       " 15,\n",
       " 38,\n",
       " 44]"
      ]
     },
     "metadata": {},
     "execution_count": 50
    }
   ]
  },
  {
   "cell_type": "code",
   "execution_count": 29,
   "metadata": {},
   "outputs": [
    {
     "output_type": "stream",
     "name": "stdout",
     "text": [
      "9.64 µs ± 4.77 µs per loop (mean ± std. dev. of 5 runs, 1000 loops each)\n"
     ]
    }
   ],
   "source": [
    "# can set the timer for the code to run\n",
    "%timeit -n 1000 -r 5 sorted(numbers)"
   ]
  },
  {
   "cell_type": "code",
   "execution_count": 55,
   "metadata": {},
   "outputs": [],
   "source": [
    "# rerun the selected execution number\n",
    "# %rerun 50\n",
    "# recall the execution number but don't run\n",
    "%recall 50"
   ]
  },
  {
   "cell_type": "code",
   "execution_count": 56,
   "metadata": {},
   "outputs": [
    {
     "output_type": "stream",
     "name": "stdout",
     "text": [
      "Operation cancelled.\n"
     ]
    }
   ],
   "source": [
    "# load code from external file\n",
    "%load basic.ipynb"
   ]
  },
  {
   "cell_type": "code",
   "execution_count": 58,
   "metadata": {},
   "outputs": [],
   "source": [
    "# run 10 times of that python file\n",
    "%run -t -N10 main.py"
   ]
  },
  {
   "cell_type": "code",
   "execution_count": 59,
   "metadata": {},
   "outputs": [
    {
     "output_type": "stream",
     "name": "stdout",
     "text": [
      "'<line numbers>' was not found in history, as a file, url, nor in the user namespace.\n"
     ]
    }
   ],
   "source": [
    "# save the line of code in python file\n",
    "%save -a <filename> <line numbers>"
   ]
  },
  {
   "cell_type": "code",
   "execution_count": 78,
   "metadata": {},
   "outputs": [
    {
     "output_type": "execute_result",
     "data": {
      "text/plain": [
       "['total 688',\n",
       " '-rw-r--r--@ 1 shawnlow  admin  310915 May 29 19:46 basic.ipynb',\n",
       " '-rw-r--r--@ 1 shawnlow  admin     470 May 29 20:19 ipython.ipynb',\n",
       " '-rw-r--r--@ 1 shawnlow  admin   17159 May 29 20:19 module.ipynb',\n",
       " '-rw-r--r--@ 1 shawnlow  admin    2805 May 29 19:56 operating-sys.ipynb',\n",
       " '-rw-r--r--@ 1 shawnlow  admin    1943 May 29 19:59 random.ipynb',\n",
       " '-rw-r--r--@ 1 shawnlow  admin    1257 May 29 17:57 scatter.png',\n",
       " '-rw-r--r--@ 1 shawnlow  admin      29 May 29 17:47 test.txt',\n",
       " 'drwxr-xr-x@ 9 shawnlow  admin     288 May 29 17:21 venv']"
      ]
     },
     "metadata": {},
     "execution_count": 78
    }
   ],
   "source": [
    "# capturing the output of a shell command \n",
    "# %sx ----> equivalent with !!command\n",
    "files = %sx ls -l \n",
    "# return the last fields of fiels\n",
    "files.fields(-1)\n",
    "# sort the files by size\n",
    "files.sort(4, nums = True) \n",
    "files"
   ]
  },
  {
   "cell_type": "code",
   "execution_count": null,
   "metadata": {},
   "outputs": [],
   "source": []
  }
 ]
}